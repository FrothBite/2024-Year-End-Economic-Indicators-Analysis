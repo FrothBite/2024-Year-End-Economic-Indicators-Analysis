{
 "cells": [
  {
   "cell_type": "markdown",
   "metadata": {},
   "source": [
    "# 2024 Year-End Economic Indicators Analysis\n",
    "The purpose of this project is to calculate and document the performance and changes of indices, stock (singular), and economic indicators I found to be the most interesting for recapping 2024."
   ]
  },
  {
   "cell_type": "markdown",
   "metadata": {},
   "source": [
    "## Yahoo Finance\n",
    "Yahoo Finance specific data retrieval and calculations."
   ]
  },
  {
   "cell_type": "code",
   "execution_count": 1,
   "metadata": {},
   "outputs": [],
   "source": [
    "import yfinance as yf"
   ]
  },
  {
   "cell_type": "code",
   "execution_count": 2,
   "metadata": {},
   "outputs": [],
   "source": [
    "# dictionary of tickers the indices stock (singular)\n",
    "tickers = {\n",
    "    'Dow': '^DJI',\n",
    "    'Nasdaq': '^IXIC',\n",
    "    'S&P 500': '^GSPC',\n",
    "    'TSSI': 'TSSI'\n",
    "}\n",
    "\n",
    "# set start and end dates (2024)\n",
    "start_date = '2024-01-01'\n",
    "end_date = '2024-12-31'"
   ]
  },
  {
   "cell_type": "code",
   "execution_count": 3,
   "metadata": {},
   "outputs": [],
   "source": [
    "def calculate_return(ticker):\n",
    "    \"\"\"calculates performance of a given ticker\"\"\"\n",
    "    data = yf.download(ticker, start=start_date, end=end_date)\n",
    "    if not data.empty:\n",
    "        # calc (short for calculator) performance from start to finish\n",
    "        initial_price = data['Open'].iloc[0]\n",
    "        final_price = data['Close'].iloc[-1]\n",
    "        # return in percentage\n",
    "        return (final_price - initial_price) / initial_price * 100\n",
    "    else:\n",
    "        return None"
   ]
  },
  {
   "cell_type": "code",
   "execution_count": 4,
   "metadata": {},
   "outputs": [
    {
     "name": "stderr",
     "output_type": "stream",
     "text": [
      "[*********************100%%**********************]  1 of 1 completed\n",
      "[*********************100%%**********************]  1 of 1 completed\n",
      "[*********************100%%**********************]  1 of 1 completed\n"
     ]
    },
    {
     "name": "stdout",
     "output_type": "stream",
     "text": [
      "Dow (^DJI) 2024 Performance: 13.33%\n",
      "Nasdaq (^IXIC) 2024 Performance: 31.02%\n",
      "S&P 500 (^GSPC) 2024 Performance: 24.48%\n"
     ]
    },
    {
     "name": "stderr",
     "output_type": "stream",
     "text": [
      "[*********************100%%**********************]  1 of 1 completed"
     ]
    },
    {
     "name": "stdout",
     "output_type": "stream",
     "text": [
      "TSSI (TSSI) 2024 Performance: 4292.59%\n"
     ]
    },
    {
     "name": "stderr",
     "output_type": "stream",
     "text": [
      "\n"
     ]
    }
   ],
   "source": [
    "# calc and show performance\n",
    "for name, ticker in tickers.items():\n",
    "    performance = calculate_return(ticker)\n",
    "    if performance is not None:\n",
    "        print(f\"{name} ({ticker}) 2024 Performance: {performance:.2f}%\")\n",
    "    else:\n",
    "        print(f\"{name} ({ticker}) data not available.\")"
   ]
  },
  {
   "cell_type": "markdown",
   "metadata": {},
   "source": [
    "## FRED\n",
    "Federal Reserve Economic Data specific data retrieval and calculations. \\\n",
    "Sections are split by series IDs/specific indicator."
   ]
  },
  {
   "cell_type": "code",
   "execution_count": 5,
   "metadata": {},
   "outputs": [],
   "source": [
    "from fredapi import Fred\n",
    "import pandas as pd"
   ]
  },
  {
   "cell_type": "code",
   "execution_count": 6,
   "metadata": {},
   "outputs": [],
   "source": [
    "# retrive api key\n",
    "# please don't leak please don't leak please don't leak\n",
    "with open('/Users/erys/fred_api_key.txt', 'r') as api_file:\n",
    "    api_key = api_file.readline()"
   ]
  },
  {
   "cell_type": "code",
   "execution_count": 7,
   "metadata": {},
   "outputs": [],
   "source": [
    "# instantiate Fred class\n",
    "fred = Fred(api_key=api_key)"
   ]
  },
  {
   "cell_type": "code",
   "execution_count": 8,
   "metadata": {},
   "outputs": [],
   "source": [
    "# dictionary of FRED series IDs for desired metrics\n",
    "metrics = {\n",
    "    'Federal Funds Rate Target (Upper Limit)': 'DFEDTARU',\n",
    "    'Headline CPI Inflation': 'CPIAUCNS',\n",
    "    'Consumer Revolving Credit': 'CCLACBW027SBOG',\n",
    "    'Total Nonfarm Job Openings': 'JTSJOL',\n",
    "    'Unemployment Rate': 'UNRATE',\n",
    "    'Job Postings on Indeed': 'IHLIDXUS'\n",
    "}"
   ]
  },
  {
   "cell_type": "markdown",
   "metadata": {},
   "source": [
    "i probably could've saved a couple lines and reduce repeating the same logic, but i knew i'd need to perform different actions depending on the series id, so i just copy-and-pasted :/"
   ]
  },
  {
   "cell_type": "markdown",
   "metadata": {},
   "source": [
    "### Fed Funds Rate"
   ]
  },
  {
   "cell_type": "code",
   "execution_count": 9,
   "metadata": {},
   "outputs": [],
   "source": [
    "fed_funds_rate = fred.get_series(metrics['Federal Funds Rate Target (Upper Limit)'], start_date, end_date)"
   ]
  },
  {
   "cell_type": "code",
   "execution_count": 10,
   "metadata": {},
   "outputs": [],
   "source": [
    "fed_funds_rate_start = fed_funds_rate.iloc[0]\n",
    "fed_funds_rate_end = fed_funds_rate.iloc[-1]"
   ]
  },
  {
   "cell_type": "code",
   "execution_count": 11,
   "metadata": {},
   "outputs": [
    {
     "name": "stdout",
     "output_type": "stream",
     "text": [
      "Starting Rate: 5.5%\n",
      "Final Rate: 4.5%\n",
      "Change: -1.0%\n"
     ]
    }
   ],
   "source": [
    "print(f\"Starting Rate: {fed_funds_rate_start}%\")\n",
    "print(f\"Final Rate: {fed_funds_rate_end}%\")\n",
    "print(f\"Change: {fed_funds_rate_end - fed_funds_rate_start}%\")"
   ]
  },
  {
   "cell_type": "markdown",
   "metadata": {},
   "source": [
    "### CPI"
   ]
  },
  {
   "cell_type": "code",
   "execution_count": 12,
   "metadata": {},
   "outputs": [],
   "source": [
    "cpi = fred.get_series(metrics['Headline CPI Inflation'], '2023-01-01', end_date)"
   ]
  },
  {
   "cell_type": "code",
   "execution_count": 13,
   "metadata": {},
   "outputs": [],
   "source": [
    "cpi_jan = ((cpi.loc['2024-01-01'] - cpi.loc['2023-01-01']) / cpi.loc['2023-01-01']) * 100\n",
    "cpi_nov = ((cpi.loc['2024-11-01'] - cpi.loc['2023-11-01']) / cpi.loc['2023-11-01']) * 100"
   ]
  },
  {
   "cell_type": "code",
   "execution_count": 14,
   "metadata": {},
   "outputs": [
    {
     "name": "stdout",
     "output_type": "stream",
     "text": [
      "January 2024 CPI: 3.0908847812280498%\n",
      "November 2024 CPI: 2.7493803960905545%\n",
      "Change: -0.34%\n"
     ]
    }
   ],
   "source": [
    "print(f\"January 2024 CPI: {cpi_jan}%\")\n",
    "print(f\"November 2024 CPI: {cpi_nov}%\")\n",
    "print(f\"Change: {round((cpi_nov - cpi_jan), 2)}%\")"
   ]
  },
  {
   "cell_type": "markdown",
   "metadata": {},
   "source": [
    "### Consumer Revolving Credit"
   ]
  },
  {
   "cell_type": "code",
   "execution_count": 15,
   "metadata": {},
   "outputs": [],
   "source": [
    "credit = fred.get_series(metrics['Consumer Revolving Credit'], start_date, end_date)"
   ]
  },
  {
   "cell_type": "code",
   "execution_count": 16,
   "metadata": {},
   "outputs": [],
   "source": [
    "credit_start = credit.iloc[0] * 1e9\n",
    "credit_end = credit.iloc[-1] * 1e9"
   ]
  },
  {
   "cell_type": "code",
   "execution_count": 17,
   "metadata": {},
   "outputs": [
    {
     "name": "stdout",
     "output_type": "stream",
     "text": [
      "Starting Credit Amount: $1,035,512,700,000.0\n",
      "Final Credit Amount: $1,088,658,300,000.0\n",
      "Change: $53,145,600,000.0\n"
     ]
    }
   ],
   "source": [
    "print(f\"Starting Credit Amount: ${(credit.iloc[0] * 1e9):,}\")\n",
    "print(f\"Final Credit Amount: ${(credit.iloc[-1] * 1e9):,}\")\n",
    "print(f\"Change: ${(credit_end - credit_start):,}\")"
   ]
  },
  {
   "cell_type": "markdown",
   "metadata": {},
   "source": [
    "### Total Nonfarm Job Openings"
   ]
  },
  {
   "cell_type": "code",
   "execution_count": 18,
   "metadata": {},
   "outputs": [],
   "source": [
    "nonfarm_jobs = fred.get_series(metrics['Total Nonfarm Job Openings'], start_date, end_date)"
   ]
  },
  {
   "cell_type": "code",
   "execution_count": 19,
   "metadata": {},
   "outputs": [],
   "source": [
    "nonfarm_jobs_start = nonfarm_jobs.iloc[0] * 1e3\n",
    "nonfarm_jobs_end = nonfarm_jobs.iloc[-1] * 1e3"
   ]
  },
  {
   "cell_type": "code",
   "execution_count": 20,
   "metadata": {},
   "outputs": [
    {
     "name": "stdout",
     "output_type": "stream",
     "text": [
      "Starting Job Openings: 8,748,000.0\n",
      "Final Job Openings: 7,744,000.0\n",
      "Change: -1,004,000.0\n"
     ]
    }
   ],
   "source": [
    "print(f\"Starting Job Openings: {nonfarm_jobs_start:,}\")\n",
    "print(f\"Final Job Openings: {nonfarm_jobs_end:,}\")\n",
    "print(f\"Change: {(nonfarm_jobs_end - nonfarm_jobs_start):,}\")"
   ]
  },
  {
   "cell_type": "markdown",
   "metadata": {},
   "source": [
    "### Unemployment Rate"
   ]
  },
  {
   "cell_type": "code",
   "execution_count": 21,
   "metadata": {},
   "outputs": [],
   "source": [
    "unemployment = fred.get_series(metrics['Unemployment Rate'], start_date, end_date)"
   ]
  },
  {
   "cell_type": "code",
   "execution_count": 22,
   "metadata": {},
   "outputs": [],
   "source": [
    "unemployment_start = unemployment.iloc[0]\n",
    "unemployment_end = unemployment.iloc[-1]"
   ]
  },
  {
   "cell_type": "code",
   "execution_count": 23,
   "metadata": {},
   "outputs": [
    {
     "name": "stdout",
     "output_type": "stream",
     "text": [
      "Starting Unemployment: 3.7%\n",
      "Final Unemployment: 4.2%\n",
      "Change: 0.50%\n"
     ]
    }
   ],
   "source": [
    "print(f\"Starting Unemployment: {unemployment_start}%\")\n",
    "print(f\"Final Unemployment: {unemployment_end}%\")\n",
    "print(f\"Change: {(unemployment_end - unemployment_start):.2f}%\")"
   ]
  },
  {
   "cell_type": "markdown",
   "metadata": {},
   "source": [
    "### Job Postings on Indeed"
   ]
  },
  {
   "cell_type": "code",
   "execution_count": 24,
   "metadata": {},
   "outputs": [],
   "source": [
    "indeed_jobs = fred.get_series(metrics['Job Postings on Indeed'], start_date, end_date)"
   ]
  },
  {
   "cell_type": "code",
   "execution_count": 25,
   "metadata": {},
   "outputs": [],
   "source": [
    "indeed_jobs_start = indeed_jobs.iloc[0]\n",
    "indeed_jobs_end = indeed_jobs.iloc[-1]"
   ]
  },
  {
   "cell_type": "code",
   "execution_count": 26,
   "metadata": {},
   "outputs": [
    {
     "name": "stdout",
     "output_type": "stream",
     "text": [
      "Starting Indeed Jobs: 121.65\n",
      "Final Indeed Jobs: 110.36\n",
      "Change: -11.290000000000006\n"
     ]
    }
   ],
   "source": [
    "print(f\"Starting Indeed Jobs: {indeed_jobs_start}\")\n",
    "print(f\"Final Indeed Jobs: {indeed_jobs_end}\")\n",
    "print(f\"Change: {indeed_jobs_end - indeed_jobs_start}\")"
   ]
  }
 ],
 "metadata": {
  "kernelspec": {
   "display_name": "venv_fin",
   "language": "python",
   "name": "python3"
  },
  "language_info": {
   "codemirror_mode": {
    "name": "ipython",
    "version": 3
   },
   "file_extension": ".py",
   "mimetype": "text/x-python",
   "name": "python",
   "nbconvert_exporter": "python",
   "pygments_lexer": "ipython3",
   "version": "3.11.5"
  }
 },
 "nbformat": 4,
 "nbformat_minor": 2
}
